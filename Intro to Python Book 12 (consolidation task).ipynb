{
 "cells": [
  {
   "cell_type": "markdown",
   "metadata": {},
   "source": [
    "<img src=\"./intro_images/MIE.PNG\" width=\"100%\" align=\"left\" />"
   ]
  },
  {
   "cell_type": "markdown",
   "metadata": {},
   "source": [
    "<table style=\"float:right;\">\n",
    "    <tr>\n",
    "        <td>                      \n",
    "            <div style=\"text-align: right\"><a href=\"https://alandavies.netlify.com\" target=\"_blank\">Dr Alan Davies</a></div>\n",
    "            <div style=\"text-align: right\">Senior Lecturer Health Data Science</div>\n",
    "            <div style=\"text-align: right\">University of Manchester</div>\n",
    "         </td>\n",
    "         <td>\n",
    "             <img src=\"./intro_images/alan.PNG\" width=\"30%\" />\n",
    "         </td>\n",
    "     </tr>\n",
    "</table>"
   ]
  },
  {
   "cell_type": "markdown",
   "metadata": {},
   "source": [
    "# 12.0 Programming task\n",
    "****"
   ]
  },
  {
   "cell_type": "markdown",
   "metadata": {},
   "source": [
    "#### About this Notebook\n",
    "This optional notebook allows you an opportunity to practice and consolidate some of the skills you have learnt through the previous notebooks by bringing these together in a larger mini project."
   ]
  },
  {
   "cell_type": "markdown",
   "metadata": {},
   "source": [
    "<div class=\"alert alert-block alert-warning\"><b>Learning Objectives:</b> \n",
    "<br/> At the end of this notebook you will be able to:\n",
    "    \n",
    "- Consolidate and practice Python skills in a larger project\n",
    "\n",
    "</div> "
   ]
  },
  {
   "cell_type": "markdown",
   "metadata": {},
   "source": [
    "<a id=\"top\"></a>\n",
    "\n",
    "<b>Table of contents</b><br>\n",
    "\n",
    "12.1 [The task](#task)\n",
    "\n",
    "12.2 [A solution](#solution)"
   ]
  },
  {
   "cell_type": "markdown",
   "metadata": {},
   "source": [
    "So far you have completed relatively small tasks to learn some of the Python tools that are available. This notebook takes you through a much larger task that involves using many of the skills and techniques you have been introduced to in the previous notebooks. You may want to refer back to some of those notebooks for this task."
   ]
  },
  {
   "cell_type": "markdown",
   "metadata": {},
   "source": [
    "<a id=\"task\"></a>\n",
    "#### 12.1 The task"
   ]
  },
  {
   "cell_type": "markdown",
   "metadata": {},
   "source": [
    "Create a <code>hangman game</code>. This simple game actually requires the use of a lot of the different tools and techniques you have previously come across in the notebooks. This includes OOP, loops, selection and various data structures. There are a few things to bare in mind before starting. Firstly there are many ways that you could go about doing this. There is no right answer. Secondly, you could of course Google \"how to make hangman in Python\" and cut and paste the code. The idea here is that you don't do this but think instead about how you might approach this task and which Python tools and techniques you will need to achieve this. "
   ]
  },
  {
   "cell_type": "markdown",
   "metadata": {},
   "source": [
    "If you are not sure what we mean by \"hangman game\", you can watch this short (1 minute) video explaining the concept: <a href=\"https://www.youtube.com/watch?v=cGOeiQfjYPk\" target=\"_blank\">How to play hangman</a>."
   ]
  },
  {
   "cell_type": "markdown",
   "metadata": {},
   "source": [
    "A few features to consider. The game should deal with issues like:<br>\n",
    "<ul>\n",
    "    <li>How to determine when the player wins or looses</li>\n",
    "    <li>Check the input (letters) is in the correct form and prompt the user to try again if not</li>\n",
    "    <li>How to represent the hangman (using text is the simplest way)</li>\n",
    "    <li>Showing the letter the user incorrectly guessed</li>\n",
    "    <li>Filling in the blanks with the correct letters</li>\n",
    "    <li>How you will structure the code (classes, functions etc.)</li>\n",
    "    <li>...</li>\n",
    "</ul>\n",
    "Time spent thinking about this and planning this out (pen and paper/whiteboard) will save more time in the long run than diving straight into coding. You may also want to look back at previous notebooks to remind yourself how to do certain things."
   ]
  },
  {
   "cell_type": "markdown",
   "metadata": {},
   "source": [
    "Below is an example of how you may display the hang man character:"
   ]
  },
  {
   "cell_type": "code",
   "execution_count": 2,
   "metadata": {},
   "outputs": [
    {
     "name": "stdout",
     "output_type": "stream",
     "text": [
      " ____\n",
      " |  |\n",
      "(:) |\n",
      "/|\\ |\n",
      "/ \\ |\n",
      "    |\n",
      "  __|\n"
     ]
    }
   ],
   "source": [
    "print(\" ____\")\n",
    "print(\" |  |\")\n",
    "print(\"(:) |\")\n",
    "print(\"/|\\ |\")\n",
    "print(\"/ \\ |\")\n",
    "print(\"    |\")\n",
    "print(\"  __|\")"
   ]
  },
  {
   "cell_type": "markdown",
   "metadata": {},
   "source": [
    "<div class=\"alert alert-danger\">\n",
    "<strong>Note:</strong> You should develop the code for this game in a separate IDE. This will help to give you the chance to get more familiar with using an IDE. In addition the notebook environment does not work so well with some of the loops that the game may require. These will also deplete resources. \n",
    "</div>"
   ]
  },
  {
   "cell_type": "markdown",
   "metadata": {},
   "source": [
    "You may want to check your attempt against the solutions below. The first displays the code, the second has detailed comments explaining the code line by line."
   ]
  },
  {
   "cell_type": "markdown",
   "metadata": {},
   "source": [
    "We would also recommend cutting and pasting the solution code into your IDE if you want to run the code."
   ]
  },
  {
   "cell_type": "markdown",
   "metadata": {},
   "source": [
    "<a id=\"solution\"></a>\n",
    "#### 12.2 A solution"
   ]
  },
  {
   "cell_type": "markdown",
   "metadata": {
    "solution2": "hidden",
    "solution2_first": true
   },
   "source": [
    "<div class=\"alert alert-block alert-info\">\n",
    "<b>Task 2:</b>\n",
    "<br> \n",
    "    You can play the game and see the code we created for this task by clicking the <code>show solution</code> button below. Remember there are different ways you could do this and this is just one of many options (not necessarily the best one).\n",
    "</div>"
   ]
  },
  {
   "cell_type": "code",
   "execution_count": 5,
   "metadata": {
    "solution2": "hidden"
   },
   "outputs": [],
   "source": [
    "import string\n",
    "import random\n",
    "\n",
    "class Hangman:\n",
    "    def __init__(self):\n",
    "        self.turn = 0\n",
    "        self.playing = True\n",
    "        self.words = []\n",
    "        self.current_word = \"\"\n",
    "        self.failed_guesses = []\n",
    "        self.correct_letters = []\n",
    "        self.letters = string.ascii_lowercase[:26]\n",
    "    \n",
    "    def new_game(self):  \n",
    "        self.current_word = self.get_word()\n",
    "        self.show_blanks()\n",
    "        \n",
    "        while self.playing:\n",
    "            self.take_turn()\n",
    "            self.show_blanks()\n",
    "        \n",
    "            if len(self.failed_guesses) == 11:\n",
    "                print(\"\\n\\nGame over, you loose\")\n",
    "                self.playing = False\n",
    "    \n",
    "    def get_word(self):\n",
    "        if len(self.words) > 0:\n",
    "            return self.words.pop(random.randint(0, len(self.words)-1))\n",
    "        else:\n",
    "            print(\"\\n\\nGame over no more words\")\n",
    "            self.playing = False\n",
    "            \n",
    "    def show_blanks(self):\n",
    "        num_blanks = 0\n",
    "        print(\"\\nPrevious incorrect guesses: \")\n",
    "        print(self.failed_guesses)\n",
    "       \n",
    "        for letter in range(0, len(self.current_word)):\n",
    "            if self.current_word[letter] in self.correct_letters:\n",
    "                print(\" \" + self.current_word[letter] + \" \", end=\"\")\n",
    "            else:    \n",
    "                print(\" _ \", end=\"\")\n",
    "                num_blanks += 1\n",
    "                \n",
    "        if num_blanks == 0:\n",
    "            print(\"\\n\\nWell done, you win\")\n",
    "            self.playing = False\n",
    "        \n",
    "    def take_turn(self):\n",
    "        made_guess = False\n",
    "        while not made_guess:\n",
    "            guess = input(\"\\nEnter your guess: \")\n",
    "            if guess.lower() in self.failed_guesses:\n",
    "                print(\"Letter already chosen, chose again\")\n",
    "            else:\n",
    "                if guess.lower() in self.letters:\n",
    "                    made_guess = True\n",
    "                    self.turn += 1\n",
    "                    if guess in self.current_word:\n",
    "                        self.correct_letters.append(guess)                    \n",
    "                    else:\n",
    "                        self.failed_guesses.append(guess)\n",
    "                        self.show_hang_man(len(self.failed_guesses))\n",
    "    \n",
    "    def new_word_bank(self):\n",
    "        self.words = [\"apple\",\n",
    "                      \"freezer\",\n",
    "                      \"substantive\",\n",
    "                      \"normative\",\n",
    "                      \"rubble\",\n",
    "                      \"baseless\",\n",
    "                      \"contingent\"]\n",
    "                    \n",
    "    def show_hang_man(self, turn):\n",
    "        hangman = {\n",
    "            1: \"      \\n\" + \"      \\n\" + \"      \\n\" + \"      \\n\" + \"      \\n\" + \"      \\n\" + \"  __|\\n\",\n",
    "            2: \"      \\n\" + \"      \\n\" + \"      \\n\" + \"      \\n\" + \"      \\n\" + \"    |\\n\" + \"  __|\\n\",\n",
    "            3: \"      \\n\" + \"      \\n\" + \"      \\n\" + \"      \\n\" + \"    |\\n\" + \"    |\\n\" + \"  __|\\n\",\n",
    "            4: \"      \\n\" + \"      \\n\" + \"      \\n\" + \"    |\\n\" + \"    |\\n\" + \"    |\\n\" + \"  __|\\n\",\n",
    "            5: \"      \\n\" + \"      \\n\" + \"    |\\n\" + \"    |\\n\" + \"    |\\n\" + \"    |\\n\" + \"  __|\\n\",\n",
    "            6: \"      \\n\" + \"    |\\n\" + \"    |\\n\" + \"    |\\n\" + \"    |\\n\" + \"    |\\n\" + \"  __|\\n\",\n",
    "            7: \" ____\\n\" + \"    |\\n\" + \"    |\\n\" + \"    |\\n\" + \"    |\\n\" + \"    |\\n\" + \"  __|\\n\",\n",
    "            8: \" ____\\n\" + \" |  |\\n\" + \"    |\\n\" + \"    |\\n\" + \"    |\\n\" + \"    |\\n\" + \"  __|\\n\",\n",
    "            9: \" ____\\n\" + \" |  |\\n\" + \"(:) |\\n\" + \"    |\\n\" + \"    |\\n\" + \"    |\\n\" + \"  __|\\n\",\n",
    "            10: \" ____\\n\" + \" |  |\\n\" + \"(:) |\\n\" + \"/|\\ |\\n\" + \"    |\\n\" + \"    |\\n\" + \"  __|\\n\",\n",
    "            11: \" ____\\n\" + \" |  |\\n\" + \"(:) |\\n\" + \"/|\\ |\\n\" + \"/ \\ |\\n\" + \"    |\\n\" + \"  __|\\n\"\n",
    "        }\n",
    "        print(hangman.get(turn))"
   ]
  },
  {
   "cell_type": "code",
   "execution_count": null,
   "metadata": {
    "solution2": "hidden"
   },
   "outputs": [
    {
     "name": "stdout",
     "output_type": "stream",
     "text": [
      "\n",
      "Previous incorrect guesses: \n",
      "[]\n",
      " _  _  _  _  _  _  _  _  _ "
     ]
    }
   ],
   "source": [
    "hangman_game = Hangman()\n",
    "hangman_game.new_word_bank()\n",
    "hangman_game.new_game()"
   ]
  },
  {
   "cell_type": "markdown",
   "metadata": {
    "solution2": "hidden",
    "solution2_first": true
   },
   "source": [
    "<div class=\"alert alert-block alert-info\">\n",
    "<b>Task 3:</b>\n",
    "<br> \n",
    "Here you can view the same code with an explanation as to how each bit works.\n",
    "</div>"
   ]
  },
  {
   "cell_type": "code",
   "execution_count": null,
   "metadata": {
    "solution2": "hidden"
   },
   "outputs": [],
   "source": [
    "# The string library is used to generate the lowercase letters a-z\n",
    "import string\n",
    "\n",
    "# Random is used to randomly select a word from the list of words\n",
    "import random\n",
    "\n",
    "# We decided to implement the game as a single class\n",
    "class Hangman:\n",
    "    # The initialisation function sets all the member variables to their default states\n",
    "    def __init__(self):\n",
    "        self.turn = 0                                    # This is the number of turns taken\n",
    "        self.playing = True                              # Used for the loop to see if we are still playing\n",
    "        self.words = []                                  # A list of words to use in the game\n",
    "        self.current_word = \"\"                           # The currently selected word from the list above\n",
    "        self.failed_guesses = []                         # A list of failed guesses (letters that were wrong)\n",
    "        self.correct_letters = []                        # A list of correctly chosen letters\n",
    "        self.letters = string.ascii_lowercase[:26]       # A quick way of generating a string containing the letters a to z  \n",
    "    \n",
    "    # This method runs the game\n",
    "    def new_game(self):  \n",
    "        self.current_word = self.get_word()              # Get a new word from the list of words and store in current_word\n",
    "        self.show_blanks()                               # Draw the empty board (number of blanks to match chosen word)\n",
    "        \n",
    "        while self.playing:                              # Keep looping while playing is true (the main game loop)\n",
    "            self.take_turn()                             # Allow the player to take a turn (guess the next letter)\n",
    "            self.show_blanks()                           # Fill in word with letters or dashes\n",
    "        \n",
    "            if len(self.failed_guesses) == 11:           # The hangman is drawn in 11 goes, so they loose if they guess \n",
    "                print(\"\\n\\nGame over, you loose\")        #    ...incorrectly that many times\n",
    "                self.playing = False                     # Set playing to false to end the game (quit the loop) \n",
    "    \n",
    "    # Get a random word from the list of words\n",
    "    def get_word(self):\n",
    "        if len(self.words) > 0:                          # If there are words left to choose\n",
    "            return self.words.pop(random.randint(0, len(self.words)-1)) # Pick a random word from the list\n",
    "        else:\n",
    "            print(\"\\n\\nGame over no more words\")         # Otherwise if there are no more words left in the list\n",
    "            self.playing = False                         # Set playing to false to end the game (quit the loop) \n",
    "            \n",
    "    # Fill in the letter(s) or the blanks \n",
    "    def show_blanks(self):\n",
    "        num_blanks = 0                                   # Set the number of blanks to zero (i.e. all letters found)\n",
    "        print(\"\\nPrevious incorrect guesses: \")\n",
    "        print(self.failed_guesses)                       # Show the user their previous incorrect guesses (wrong letters)\n",
    "       \n",
    "        for letter in range(0, len(self.current_word)):  # Loop through the number of letters in the chosen word\n",
    "            if self.current_word[letter] in self.correct_letters: # If the letter in the word is equal to the correct letter\n",
    "                print(\" \" + self.current_word[letter] + \" \", end=\"\") # Output the letter\n",
    "            else:    \n",
    "                print(\" _ \", end=\"\")                     # Otherwise output a blank (underscore) _\n",
    "                num_blanks += 1                          # Add to the number of blanks (this could have been a boolean)\n",
    "                \n",
    "        if num_blanks == 0:                              # If there are still no blanks at the end of the word - they won\n",
    "            print(\"\\n\\nWell done, you win\")\n",
    "            self.playing = False                         # Set playing to false to end the game (quit the loop) \n",
    "    \n",
    "    # Let the user make a guess (take a turn)\n",
    "    def take_turn(self):\n",
    "        made_guess = False                               # Set the made guess to false (i.e. haven't finished guessing yet)\n",
    "        while not made_guess:                            # Keep asking them to guess if not giving a satisfactory input\n",
    "            guess = input(\"\\nEnter your guess: \")        # Read in the users guess\n",
    "            if guess.lower() in self.failed_guesses:     # Make it lowercase and check if they already chose this letter \n",
    "                print(\"Letter already chosen, chose again\") # If so tell them (they will have to input another guess)\n",
    "            else:                                        # Otherwise\n",
    "                if guess.lower() in self.letters:        # Check to see if their letter is a letter a - z (valid input)\n",
    "                    made_guess = True                    # If so they made a valid guess\n",
    "                    self.turn += 1                       # Add to the number of turns taken\n",
    "                    if guess in self.current_word:       # If their guess letter is in the current word \n",
    "                        self.correct_letters.append(guess) # Add that letter to the list of correct letters                   \n",
    "                    else:\n",
    "                        self.failed_guesses.append(guess) # Otherwise add it to the failed guess list\n",
    "                        self.show_hang_man(len(self.failed_guesses)) # Draw the hang man passing in the number of wrong guesses\n",
    "    \n",
    "    # Make a list containing a few words we can use for the game\n",
    "    def new_word_bank(self):\n",
    "        self.words = [\"apple\",\n",
    "                      \"freezer\",\n",
    "                      \"substantive\",\n",
    "                      \"normative\",\n",
    "                      \"rubble\",\n",
    "                      \"baseless\",\n",
    "                      \"contingent\"]\n",
    "    \n",
    "    # Based on the number of failed guesses (turn), retrieve this item from the dict and print the hangman image (made of text)\n",
    "    def show_hang_man(self, turn):\n",
    "        hangman = {\n",
    "            1: \"      \\n\" + \"      \\n\" + \"      \\n\" + \"      \\n\" + \"      \\n\" + \"      \\n\" + \"  __|\\n\",\n",
    "            2: \"      \\n\" + \"      \\n\" + \"      \\n\" + \"      \\n\" + \"      \\n\" + \"    |\\n\" + \"  __|\\n\",\n",
    "            3: \"      \\n\" + \"      \\n\" + \"      \\n\" + \"      \\n\" + \"    |\\n\" + \"    |\\n\" + \"  __|\\n\",\n",
    "            4: \"      \\n\" + \"      \\n\" + \"      \\n\" + \"    |\\n\" + \"    |\\n\" + \"    |\\n\" + \"  __|\\n\",\n",
    "            5: \"      \\n\" + \"      \\n\" + \"    |\\n\" + \"    |\\n\" + \"    |\\n\" + \"    |\\n\" + \"  __|\\n\",\n",
    "            6: \"      \\n\" + \"    |\\n\" + \"    |\\n\" + \"    |\\n\" + \"    |\\n\" + \"    |\\n\" + \"  __|\\n\",\n",
    "            7: \" ____\\n\" + \"    |\\n\" + \"    |\\n\" + \"    |\\n\" + \"    |\\n\" + \"    |\\n\" + \"  __|\\n\",\n",
    "            8: \" ____\\n\" + \" |  |\\n\" + \"    |\\n\" + \"    |\\n\" + \"    |\\n\" + \"    |\\n\" + \"  __|\\n\",\n",
    "            9: \" ____\\n\" + \" |  |\\n\" + \"(:) |\\n\" + \"    |\\n\" + \"    |\\n\" + \"    |\\n\" + \"  __|\\n\",\n",
    "            10: \" ____\\n\" + \" |  |\\n\" + \"(:) |\\n\" + \"/|\\ |\\n\" + \"    |\\n\" + \"    |\\n\" + \"  __|\\n\",\n",
    "            11: \" ____\\n\" + \" |  |\\n\" + \"(:) |\\n\" + \"/|\\ |\\n\" + \"/ \\ |\\n\" + \"    |\\n\" + \"  __|\\n\"\n",
    "        }\n",
    "        print(hangman.get(turn))"
   ]
  },
  {
   "cell_type": "code",
   "execution_count": null,
   "metadata": {
    "solution2": "hidden"
   },
   "outputs": [],
   "source": [
    "hangman_game = Hangman()      # Create an instance of the hangman game\n",
    "hangman_game.new_word_bank()  # Load in the list of words for the game\n",
    "hangman_game.new_game()       # Trigger the start of a new game"
   ]
  },
  {
   "cell_type": "markdown",
   "metadata": {},
   "source": [
    "Well done, you have made it to the end of the introduction to Python notebooks."
   ]
  },
  {
   "cell_type": "markdown",
   "metadata": {},
   "source": [
    "### Notebook details\n",
    "<br>\n",
    "<i>Notebook created by <strong>Dr. Alan Davies</strong> \n",
    "\n",
    "Publish date: March 2021<br>\n",
    "Review date: March 2022</i>\n",
    "\n",
    "Please give your feedback using the button below:"
   ]
  },
  {
   "cell_type": "markdown",
   "metadata": {},
   "source": [
    "<a class=\"typeform-share button\" href=\"https://hub11.typeform.com/to/NhxytRQ0\" data-mode=\"popup\" style=\"display:inline-block;text-decoration:none;background-color:#3A7685;color:white;cursor:pointer;font-family:Helvetica,Arial,sans-serif;font-size:18px;line-height:45px;text-align:center;margin:0;height:45px;padding:0px 30px;border-radius:22px;max-width:100%;white-space:nowrap;overflow:hidden;text-overflow:ellipsis;font-weight:bold;-webkit-font-smoothing:antialiased;-moz-osx-font-smoothing:grayscale;\" target=\"_blank\">Rate this notebook </a> <script> (function() { var qs,js,q,s,d=document, gi=d.getElementById, ce=d.createElement, gt=d.getElementsByTagName, id=\"typef_orm_share\", b=\"https://embed.typeform.com/\"; if(!gi.call(d,id)){ js=ce.call(d,\"script\"); js.id=id; js.src=b+\"embed.js\"; q=gt.call(d,\"script\")[0]; q.parentNode.insertBefore(js,q) } })() </script>"
   ]
  },
  {
   "cell_type": "markdown",
   "metadata": {},
   "source": [
    "## Notes:"
   ]
  },
  {
   "cell_type": "code",
   "execution_count": null,
   "metadata": {},
   "outputs": [],
   "source": []
  },
  {
   "cell_type": "code",
   "execution_count": null,
   "metadata": {},
   "outputs": [],
   "source": []
  },
  {
   "cell_type": "code",
   "execution_count": null,
   "metadata": {},
   "outputs": [],
   "source": []
  }
 ],
 "metadata": {
  "hide_input": false,
  "kernelspec": {
   "display_name": "Python 3",
   "language": "python",
   "name": "python3"
  },
  "language_info": {
   "codemirror_mode": {
    "name": "ipython",
    "version": 3
   },
   "file_extension": ".py",
   "mimetype": "text/x-python",
   "name": "python",
   "nbconvert_exporter": "python",
   "pygments_lexer": "ipython3",
   "version": "3.7.6"
  }
 },
 "nbformat": 4,
 "nbformat_minor": 4
}
